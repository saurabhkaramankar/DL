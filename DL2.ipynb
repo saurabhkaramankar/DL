{
  "nbformat": 4,
  "nbformat_minor": 0,
  "metadata": {
    "colab": {
      "provenance": []
    },
    "kernelspec": {
      "name": "python3",
      "display_name": "Python 3"
    },
    "language_info": {
      "name": "python"
    }
  },
  "cells": [
    {
      "cell_type": "code",
      "metadata": {
        "id": "I5WEOZdbL_rL"
      },
      "source": [
        " %%capture\n",
        " !pip install pydot\n",
        " !apt-get install graphviz\n",
        " !sed -i 's/def _check_pydot()/def _check__pydot()/g' /usr/local/lib/python3.6/dist-packages/keras/utils/vis_utils.py\n",
        " !sed -i 's/_check_pydot()/#_check_pydot()/g' /usr/local/lib/python3.6/dist-packages/keras/utils/vis_utils.py"
      ],
      "execution_count": 1,
      "outputs": []
    },
    {
      "cell_type": "markdown",
      "metadata": {
        "id": "ppyNTxqV6XXv"
      },
      "source": [
        "## Imports"
      ]
    },
    {
      "cell_type": "code",
      "metadata": {
        "id": "buDTHaDL7bqK"
      },
      "source": [
        "%%capture\n",
        "import keras\n",
        "import keras.backend as K\n",
        "from keras.models import Model\n",
        "from keras.layers import Input, Dense, Conv2D, Conv3D, DepthwiseConv2D, SeparableConv2D, Conv3DTranspose\n",
        "from keras.layers import Flatten, MaxPool2D, AvgPool2D, GlobalAvgPool2D, UpSampling2D, BatchNormalization\n",
        "from keras.layers import Concatenate, Add, Dropout, ReLU, Lambda, Activation, LeakyReLU, PReLU\n",
        "\n",
        "from IPython.display import SVG\n",
        "from keras.utils.vis_utils import model_to_dot\n",
        "\n",
        "from time import time\n",
        "import numpy as np"
      ],
      "execution_count": 2,
      "outputs": []
    },
    {
      "cell_type": "markdown",
      "metadata": {
        "id": "8KzDeXAB_Co0"
      },
      "source": [
        "## VGG"
      ]
    },
    {
      "cell_type": "code",
      "metadata": {
        "id": "6lwZD4p_7l02"
      },
      "source": [
        "def vgg(input_shape, n_classes):\n",
        "  \n",
        "  input = Input(input_shape)\n",
        "  \n",
        "  x = Conv2D(64, 3, padding='same', activation='relu')(input)\n",
        "  x = Conv2D(64, 3, padding='same', activation='relu')(x)\n",
        "  x = MaxPool2D(2, strides=2, padding='same')(x)\n",
        "  \n",
        "  x = Conv2D(128, 3, padding='same', activation='relu')(x)\n",
        "  x = Conv2D(128, 3, padding='same', activation='relu')(x)\n",
        "  x = MaxPool2D(2, strides=2, padding='same')(x)\n",
        "  \n",
        "  x = Conv2D(256, 3, padding='same', activation='relu')(x)\n",
        "  x = Conv2D(256, 3, padding='same', activation='relu')(x)\n",
        "  x = Conv2D(256, 3, padding='same', activation='relu')(x)\n",
        "  x = MaxPool2D(2, strides=2, padding='same')(x)\n",
        "  \n",
        "  x = Conv2D(512, 3, padding='same', activation='relu')(x)\n",
        "  x = Conv2D(512, 3, padding='same', activation='relu')(x)\n",
        "  x = Conv2D(512, 3, padding='same', activation='relu')(x)\n",
        "  x = MaxPool2D(2, strides=2, padding='same')(x)\n",
        "  \n",
        "  x = Conv2D(512, 3, padding='same', activation='relu')(x)\n",
        "  x = Conv2D(512, 3, padding='same', activation='relu')(x)\n",
        "  x = Conv2D(512, 3, padding='same', activation='relu')(x)\n",
        "  x = MaxPool2D(2, strides=2, padding='same')(x)\n",
        "  \n",
        "  x = Flatten()(x)\n",
        "  x = Dense(4096, activation='relu')(x)\n",
        "  x = Dense(4096, activation='relu')(x)\n",
        "  \n",
        "  output = Dense(n_classes, activation='softmax')(x)\n",
        "  \n",
        "  model = Model(input, output)\n",
        "  return model"
      ],
      "execution_count": 3,
      "outputs": []
    },
    {
      "cell_type": "markdown",
      "metadata": {
        "id": "QmxPPvv6_Ekt"
      },
      "source": [
        "## Inception"
      ]
    },
    {
      "cell_type": "code",
      "metadata": {
        "id": "Lo98U9x_GUR5"
      },
      "source": [
        "def googlenet(input_shape, n_classes):\n",
        "  \n",
        "  def inception_block(x, f):\n",
        "    t1 = Conv2D(f[0], 1, activation='relu')(x)\n",
        "    \n",
        "    t2 = Conv2D(f[1], 1, activation='relu')(x)\n",
        "    t2 = Conv2D(f[2], 3, padding='same', activation='relu')(t2)\n",
        "    \n",
        "    t3 = Conv2D(f[3], 1, activation='relu')(x)\n",
        "    t3 = Conv2D(f[4], 5, padding='same', activation='relu')(t3)\n",
        "    \n",
        "    t4 = MaxPool2D(3, 1, padding='same')(x)\n",
        "    t4 = Conv2D(f[5], 1, activation='relu')(t4)\n",
        "    \n",
        "    output = Concatenate()([t1, t2, t3, t4])\n",
        "    return output\n",
        "  \n",
        "  \n",
        "  input = Input(input_shape)\n",
        "  \n",
        "  x = Conv2D(64, 7, strides=2, padding='same', activation='relu')(input)\n",
        "  x = MaxPool2D(3, strides=2, padding='same')(x)\n",
        "  \n",
        "  x = Conv2D(64, 1, activation='relu')(x)\n",
        "  x = Conv2D(192, 3, padding='same', activation='relu')(x)\n",
        "  x = MaxPool2D(3, strides=2)(x)\n",
        "  \n",
        "  x = inception_block(x, [64, 96, 128, 16, 32, 32])\n",
        "  x = inception_block(x, [128, 128, 192, 32, 96, 64])\n",
        "  x = MaxPool2D(3, strides=2, padding='same')(x)\n",
        "  \n",
        "  x = inception_block(x, [192, 96, 208, 16, 48, 64])\n",
        "  x = inception_block(x, [160, 112, 224, 24, 64, 64])\n",
        "  x = inception_block(x, [128, 128, 256, 24, 64, 64])\n",
        "  x = inception_block(x, [112, 144, 288, 32, 64, 64])\n",
        "  x = inception_block(x, [256, 160, 320, 32, 128, 128])\n",
        "  x = MaxPool2D(3, strides=2, padding='same')(x)\n",
        "\n",
        "  x = inception_block(x, [256, 160, 320, 32, 128, 128])\n",
        "  x = inception_block(x, [384, 192, 384, 48, 128, 128])\n",
        "  \n",
        "  x = AvgPool2D(7, strides=1)(x)\n",
        "  x = Dropout(0.4)(x)\n",
        "  \n",
        "  x = Flatten()(x)\n",
        "  output = Dense(n_classes, activation='softmax')(x)\n",
        "  \n",
        "  model = Model(input, output)\n",
        "  return model"
      ],
      "execution_count": null,
      "outputs": []
    },
    {
      "cell_type": "markdown",
      "metadata": {
        "id": "Rx6nnBXy_GpA"
      },
      "source": [
        "## MobileNet"
      ]
    },
    {
      "cell_type": "code",
      "metadata": {
        "id": "7cX_4MhW_lyl"
      },
      "source": [
        "def mobilenet(input_shape, n_classes):\n",
        "  \n",
        "  def mobilenet_block(x, f, s=1):\n",
        "    x = DepthwiseConv2D(3, strides=s, padding='same')(x)\n",
        "    x = BatchNormalization()(x)\n",
        "    x = ReLU()(x)\n",
        "    \n",
        "    x = Conv2D(f, 1, strides=1, padding='same')(x)\n",
        "    x = BatchNormalization()(x)\n",
        "    x = ReLU()(x)\n",
        "    return x\n",
        "    \n",
        "    \n",
        "  input = Input(input_shape)\n",
        "\n",
        "  x = Conv2D(32, 3, strides=2, padding='same')(input)\n",
        "  x = BatchNormalization()(x)\n",
        "  x = ReLU()(x)\n",
        "\n",
        "  x = mobilenet_block(x, 64)\n",
        "  x = mobilenet_block(x, 128, 2)\n",
        "  x = mobilenet_block(x, 128)\n",
        "\n",
        "  x = mobilenet_block(x, 256, 2)\n",
        "  x = mobilenet_block(x, 256)\n",
        "\n",
        "  x = mobilenet_block(x, 512, 2)\n",
        "  for _ in range(5):\n",
        "    x = mobilenet_block(x, 512)\n",
        "\n",
        "  x = mobilenet_block(x, 1024, 2)\n",
        "  x = mobilenet_block(x, 1024)\n",
        "  \n",
        "  x = GlobalAvgPool2D()(x)\n",
        "  \n",
        "  output = Dense(n_classes, activation='softmax')(x)\n",
        "  \n",
        "  model = Model(input, output)\n",
        "  return model"
      ],
      "execution_count": null,
      "outputs": []
    },
    {
      "cell_type": "markdown",
      "metadata": {
        "id": "kfJ8zng4_oWe"
      },
      "source": [
        "## ResNet"
      ]
    },
    {
      "cell_type": "code",
      "metadata": {
        "id": "-LbF4hlj_t7m"
      },
      "source": [
        "def resnet(input_shape, n_classes):\n",
        "  \n",
        "  def conv_bn_rl(x, f, k=1, s=1, p='same'):\n",
        "    x = Conv2D(f, k, strides=s, padding=p)(x)\n",
        "    x = BatchNormalization()(x)\n",
        "    x = ReLU()(x)\n",
        "    return x\n",
        "  \n",
        "  \n",
        "  def identity_block(tensor, f):\n",
        "    x = conv_bn_rl(tensor, f)\n",
        "    x = conv_bn_rl(x, f, 3)\n",
        "    x = Conv2D(4*f, 1)(x)\n",
        "    x = BatchNormalization()(x)\n",
        "    \n",
        "    x = Add()([x, tensor])\n",
        "    output = ReLU()(x)\n",
        "    return output\n",
        "  \n",
        "  \n",
        "  def conv_block(tensor, f, s):\n",
        "    x = conv_bn_rl(tensor, f)\n",
        "    x = conv_bn_rl(x, f, 3, s)\n",
        "    x = Conv2D(4*f, 1)(x)\n",
        "    x = BatchNormalization()(x)\n",
        "    \n",
        "    shortcut = Conv2D(4*f, 1, strides=s)(tensor)\n",
        "    shortcut = BatchNormalization()(shortcut)\n",
        "    \n",
        "    x = Add()([x, shortcut])\n",
        "    output = ReLU()(x)\n",
        "    return output\n",
        "  \n",
        "  \n",
        "  def resnet_block(x, f, r, s=2):\n",
        "    x = conv_block(x, f, s)\n",
        "    for _ in range(r-1):\n",
        "      x = identity_block(x, f)\n",
        "    return x\n",
        "    \n",
        "  \n",
        "  input = Input(input_shape)\n",
        "  \n",
        "  x = conv_bn_rl(input, 64, 7, 2)\n",
        "  x = MaxPool2D(3, strides=2, padding='same')(x)\n",
        "  \n",
        "  x = resnet_block(x, 64, 3, 1)\n",
        "  x = resnet_block(x, 128, 4)\n",
        "  x = resnet_block(x, 256, 6)\n",
        "  x = resnet_block(x, 512, 3)\n",
        "  \n",
        "  x = GlobalAvgPool2D()(x)\n",
        "  \n",
        "  output = Dense(n_classes, activation='softmax')(x)\n",
        "  \n",
        "  model = Model(input, output)\n",
        "  return model"
      ],
      "execution_count": null,
      "outputs": []
    },
    {
      "cell_type": "markdown",
      "metadata": {
        "id": "FLz0AGu4_wEi"
      },
      "source": [
        "## DenseNet"
      ]
    },
    {
      "cell_type": "code",
      "metadata": {
        "id": "s1yjw8vW-5ge"
      },
      "source": [
        "def densenet(img_shape, n_classes, f=32):\n",
        "  repetitions = 6, 12, 24, 16\n",
        "  \n",
        "  def bn_rl_conv(x, f, k=1, s=1, p='same'):\n",
        "    x = BatchNormalization()(x)\n",
        "    x = ReLU()(x)\n",
        "    x = Conv2D(f, k, strides=s, padding=p)(x)\n",
        "    return x\n",
        "  \n",
        "  \n",
        "  def dense_block(tensor, r):\n",
        "    for _ in range(r):\n",
        "      x = bn_rl_conv(tensor, 4*f)\n",
        "      x = bn_rl_conv(x, f, 3)\n",
        "      tensor = Concatenate()([tensor, x])\n",
        "    return tensor\n",
        "  \n",
        "  \n",
        "  def transition_block(x):\n",
        "    x = bn_rl_conv(x, K.int_shape(x)[-1] // 2)\n",
        "    x = AvgPool2D(2, strides=2, padding='same')(x)\n",
        "    return x\n",
        "  \n",
        "  \n",
        "  input = Input(img_shape)\n",
        "  \n",
        "  x = Conv2D(64, 7, strides=2, padding='same')(input)\n",
        "  x = MaxPool2D(3, strides=2, padding='same')(x)\n",
        "  \n",
        "  for r in repetitions:\n",
        "    d = dense_block(x, r)\n",
        "    x = transition_block(d)\n",
        "  \n",
        "  x = GlobalAvgPool2D()(d)\n",
        "  \n",
        "  output = Dense(n_classes, activation='softmax')(x)\n",
        "  \n",
        "  model = Model(input, output)\n",
        "  return model"
      ],
      "execution_count": null,
      "outputs": []
    },
    {
      "cell_type": "markdown",
      "metadata": {
        "id": "M4_wmfYx6Jkg"
      },
      "source": [
        "## Print and plot the model"
      ]
    },
    {
      "cell_type": "code",
      "metadata": {
        "id": "_hT79naf9xN6",
        "colab": {
          "base_uri": "https://localhost:8080/"
        },
        "outputId": "d58bad39-d187-41b6-d00e-4ec16908afc6"
      },
      "source": [
        "input_shape = 224, 224, 3\n",
        "n_classes = 1000\n",
        "\n",
        "K.clear_session()\n",
        "model = vgg(input_shape, n_classes)\n",
        "model.summary()"
      ],
      "execution_count": 4,
      "outputs": [
        {
          "output_type": "stream",
          "name": "stdout",
          "text": [
            "Model: \"model\"\n",
            "_________________________________________________________________\n",
            " Layer (type)                Output Shape              Param #   \n",
            "=================================================================\n",
            " input_1 (InputLayer)        [(None, 224, 224, 3)]     0         \n",
            "                                                                 \n",
            " conv2d (Conv2D)             (None, 224, 224, 64)      1792      \n",
            "                                                                 \n",
            " conv2d_1 (Conv2D)           (None, 224, 224, 64)      36928     \n",
            "                                                                 \n",
            " max_pooling2d (MaxPooling2D  (None, 112, 112, 64)     0         \n",
            " )                                                               \n",
            "                                                                 \n",
            " conv2d_2 (Conv2D)           (None, 112, 112, 128)     73856     \n",
            "                                                                 \n",
            " conv2d_3 (Conv2D)           (None, 112, 112, 128)     147584    \n",
            "                                                                 \n",
            " max_pooling2d_1 (MaxPooling  (None, 56, 56, 128)      0         \n",
            " 2D)                                                             \n",
            "                                                                 \n",
            " conv2d_4 (Conv2D)           (None, 56, 56, 256)       295168    \n",
            "                                                                 \n",
            " conv2d_5 (Conv2D)           (None, 56, 56, 256)       590080    \n",
            "                                                                 \n",
            " conv2d_6 (Conv2D)           (None, 56, 56, 256)       590080    \n",
            "                                                                 \n",
            " max_pooling2d_2 (MaxPooling  (None, 28, 28, 256)      0         \n",
            " 2D)                                                             \n",
            "                                                                 \n",
            " conv2d_7 (Conv2D)           (None, 28, 28, 512)       1180160   \n",
            "                                                                 \n",
            " conv2d_8 (Conv2D)           (None, 28, 28, 512)       2359808   \n",
            "                                                                 \n",
            " conv2d_9 (Conv2D)           (None, 28, 28, 512)       2359808   \n",
            "                                                                 \n",
            " max_pooling2d_3 (MaxPooling  (None, 14, 14, 512)      0         \n",
            " 2D)                                                             \n",
            "                                                                 \n",
            " conv2d_10 (Conv2D)          (None, 14, 14, 512)       2359808   \n",
            "                                                                 \n",
            " conv2d_11 (Conv2D)          (None, 14, 14, 512)       2359808   \n",
            "                                                                 \n",
            " conv2d_12 (Conv2D)          (None, 14, 14, 512)       2359808   \n",
            "                                                                 \n",
            " max_pooling2d_4 (MaxPooling  (None, 7, 7, 512)        0         \n",
            " 2D)                                                             \n",
            "                                                                 \n",
            " flatten (Flatten)           (None, 25088)             0         \n",
            "                                                                 \n",
            " dense (Dense)               (None, 4096)              102764544 \n",
            "                                                                 \n",
            " dense_1 (Dense)             (None, 4096)              16781312  \n",
            "                                                                 \n",
            " dense_2 (Dense)             (None, 1000)              4097000   \n",
            "                                                                 \n",
            "=================================================================\n",
            "Total params: 138,357,544\n",
            "Trainable params: 138,357,544\n",
            "Non-trainable params: 0\n",
            "_________________________________________________________________\n"
          ]
        }
      ]
    },
    {
      "cell_type": "code",
      "metadata": {
        "id": "7N_s-8hlMXE_",
        "colab": {
          "base_uri": "https://localhost:8080/",
          "height": 1000
        },
        "outputId": "88baf561-fed0-4807-ee54-af0beecd8e47"
      },
      "source": [
        "SVG(model_to_dot(model).create(prog='dot', format='svg'))"
      ],
      "execution_count": 5,
      "outputs": [
        {
          "output_type": "execute_result",
          "data": {
            "text/plain": [
              "<IPython.core.display.SVG object>"
            ],
            "image/svg+xml": "<svg height=\"2201pt\" viewBox=\"0.00 0.00 239.00 1651.00\" width=\"319pt\" xmlns=\"http://www.w3.org/2000/svg\" xmlns:xlink=\"http://www.w3.org/1999/xlink\">\n<g class=\"graph\" id=\"graph0\" transform=\"scale(1.3333 1.3333) rotate(0) translate(4 1647)\">\n<title>G</title>\n<polygon fill=\"#ffffff\" points=\"-4,4 -4,-1647 235,-1647 235,4 -4,4\" stroke=\"transparent\"/>\n<!-- 139695368757456 -->\n<g class=\"node\" id=\"node1\">\n<title>139695368757456</title>\n<polygon fill=\"none\" points=\"44.5,-1606.5 44.5,-1642.5 186.5,-1642.5 186.5,-1606.5 44.5,-1606.5\" stroke=\"#000000\"/>\n<text fill=\"#000000\" font-family=\"Times,serif\" font-size=\"14.00\" text-anchor=\"middle\" x=\"75.5\" y=\"-1620.8\">input_1</text>\n<polyline fill=\"none\" points=\"106.5,-1606.5 106.5,-1642.5 \" stroke=\"#000000\"/>\n<text fill=\"#000000\" font-family=\"Times,serif\" font-size=\"14.00\" text-anchor=\"middle\" x=\"146.5\" y=\"-1620.8\">InputLayer</text>\n</g>\n<!-- 139695343114064 -->\n<g class=\"node\" id=\"node2\">\n<title>139695343114064</title>\n<polygon fill=\"none\" points=\"52,-1533.5 52,-1569.5 179,-1569.5 179,-1533.5 52,-1533.5\" stroke=\"#000000\"/>\n<text fill=\"#000000\" font-family=\"Times,serif\" font-size=\"14.00\" text-anchor=\"middle\" x=\"82\" y=\"-1547.8\">conv2d</text>\n<polyline fill=\"none\" points=\"112,-1533.5 112,-1569.5 \" stroke=\"#000000\"/>\n<text fill=\"#000000\" font-family=\"Times,serif\" font-size=\"14.00\" text-anchor=\"middle\" x=\"145.5\" y=\"-1547.8\">Conv2D</text>\n</g>\n<!-- 139695368757456&#45;&gt;139695343114064 -->\n<g class=\"edge\" id=\"edge1\">\n<title>139695368757456-&gt;139695343114064</title>\n<path d=\"M115.5,-1606.4551C115.5,-1598.3828 115.5,-1588.6764 115.5,-1579.6817\" fill=\"none\" stroke=\"#000000\"/>\n<polygon fill=\"#000000\" points=\"119.0001,-1579.5903 115.5,-1569.5904 112.0001,-1579.5904 119.0001,-1579.5903\" stroke=\"#000000\"/>\n</g>\n<!-- 139695308414736 -->\n<g class=\"node\" id=\"node3\">\n<title>139695308414736</title>\n<polygon fill=\"none\" points=\"44.5,-1460.5 44.5,-1496.5 186.5,-1496.5 186.5,-1460.5 44.5,-1460.5\" stroke=\"#000000\"/>\n<text fill=\"#000000\" font-family=\"Times,serif\" font-size=\"14.00\" text-anchor=\"middle\" x=\"82\" y=\"-1474.8\">conv2d_1</text>\n<polyline fill=\"none\" points=\"119.5,-1460.5 119.5,-1496.5 \" stroke=\"#000000\"/>\n<text fill=\"#000000\" font-family=\"Times,serif\" font-size=\"14.00\" text-anchor=\"middle\" x=\"153\" y=\"-1474.8\">Conv2D</text>\n</g>\n<!-- 139695343114064&#45;&gt;139695308414736 -->\n<g class=\"edge\" id=\"edge2\">\n<title>139695343114064-&gt;139695308414736</title>\n<path d=\"M115.5,-1533.4551C115.5,-1525.3828 115.5,-1515.6764 115.5,-1506.6817\" fill=\"none\" stroke=\"#000000\"/>\n<polygon fill=\"#000000\" points=\"119.0001,-1506.5903 115.5,-1496.5904 112.0001,-1506.5904 119.0001,-1506.5903\" stroke=\"#000000\"/>\n</g>\n<!-- 139695339346384 -->\n<g class=\"node\" id=\"node4\">\n<title>139695339346384</title>\n<polygon fill=\"none\" points=\"7.5,-1387.5 7.5,-1423.5 223.5,-1423.5 223.5,-1387.5 7.5,-1387.5\" stroke=\"#000000\"/>\n<text fill=\"#000000\" font-family=\"Times,serif\" font-size=\"14.00\" text-anchor=\"middle\" x=\"62\" y=\"-1401.8\">max_pooling2d</text>\n<polyline fill=\"none\" points=\"116.5,-1387.5 116.5,-1423.5 \" stroke=\"#000000\"/>\n<text fill=\"#000000\" font-family=\"Times,serif\" font-size=\"14.00\" text-anchor=\"middle\" x=\"170\" y=\"-1401.8\">MaxPooling2D</text>\n</g>\n<!-- 139695308414736&#45;&gt;139695339346384 -->\n<g class=\"edge\" id=\"edge3\">\n<title>139695308414736-&gt;139695339346384</title>\n<path d=\"M115.5,-1460.4551C115.5,-1452.3828 115.5,-1442.6764 115.5,-1433.6817\" fill=\"none\" stroke=\"#000000\"/>\n<polygon fill=\"#000000\" points=\"119.0001,-1433.5903 115.5,-1423.5904 112.0001,-1433.5904 119.0001,-1433.5903\" stroke=\"#000000\"/>\n</g>\n<!-- 139695307852176 -->\n<g class=\"node\" id=\"node5\">\n<title>139695307852176</title>\n<polygon fill=\"none\" points=\"44.5,-1314.5 44.5,-1350.5 186.5,-1350.5 186.5,-1314.5 44.5,-1314.5\" stroke=\"#000000\"/>\n<text fill=\"#000000\" font-family=\"Times,serif\" font-size=\"14.00\" text-anchor=\"middle\" x=\"82\" y=\"-1328.8\">conv2d_2</text>\n<polyline fill=\"none\" points=\"119.5,-1314.5 119.5,-1350.5 \" stroke=\"#000000\"/>\n<text fill=\"#000000\" font-family=\"Times,serif\" font-size=\"14.00\" text-anchor=\"middle\" x=\"153\" y=\"-1328.8\">Conv2D</text>\n</g>\n<!-- 139695339346384&#45;&gt;139695307852176 -->\n<g class=\"edge\" id=\"edge4\">\n<title>139695339346384-&gt;139695307852176</title>\n<path d=\"M115.5,-1387.4551C115.5,-1379.3828 115.5,-1369.6764 115.5,-1360.6817\" fill=\"none\" stroke=\"#000000\"/>\n<polygon fill=\"#000000\" points=\"119.0001,-1360.5903 115.5,-1350.5904 112.0001,-1360.5904 119.0001,-1360.5903\" stroke=\"#000000\"/>\n</g>\n<!-- 139695307849936 -->\n<g class=\"node\" id=\"node6\">\n<title>139695307849936</title>\n<polygon fill=\"none\" points=\"44.5,-1241.5 44.5,-1277.5 186.5,-1277.5 186.5,-1241.5 44.5,-1241.5\" stroke=\"#000000\"/>\n<text fill=\"#000000\" font-family=\"Times,serif\" font-size=\"14.00\" text-anchor=\"middle\" x=\"82\" y=\"-1255.8\">conv2d_3</text>\n<polyline fill=\"none\" points=\"119.5,-1241.5 119.5,-1277.5 \" stroke=\"#000000\"/>\n<text fill=\"#000000\" font-family=\"Times,serif\" font-size=\"14.00\" text-anchor=\"middle\" x=\"153\" y=\"-1255.8\">Conv2D</text>\n</g>\n<!-- 139695307852176&#45;&gt;139695307849936 -->\n<g class=\"edge\" id=\"edge5\">\n<title>139695307852176-&gt;139695307849936</title>\n<path d=\"M115.5,-1314.4551C115.5,-1306.3828 115.5,-1296.6764 115.5,-1287.6817\" fill=\"none\" stroke=\"#000000\"/>\n<polygon fill=\"#000000\" points=\"119.0001,-1287.5903 115.5,-1277.5904 112.0001,-1287.5904 119.0001,-1287.5903\" stroke=\"#000000\"/>\n</g>\n<!-- 139695246951824 -->\n<g class=\"node\" id=\"node7\">\n<title>139695246951824</title>\n<polygon fill=\"none\" points=\"0,-1168.5 0,-1204.5 231,-1204.5 231,-1168.5 0,-1168.5\" stroke=\"#000000\"/>\n<text fill=\"#000000\" font-family=\"Times,serif\" font-size=\"14.00\" text-anchor=\"middle\" x=\"62\" y=\"-1182.8\">max_pooling2d_1</text>\n<polyline fill=\"none\" points=\"124,-1168.5 124,-1204.5 \" stroke=\"#000000\"/>\n<text fill=\"#000000\" font-family=\"Times,serif\" font-size=\"14.00\" text-anchor=\"middle\" x=\"177.5\" y=\"-1182.8\">MaxPooling2D</text>\n</g>\n<!-- 139695307849936&#45;&gt;139695246951824 -->\n<g class=\"edge\" id=\"edge6\">\n<title>139695307849936-&gt;139695246951824</title>\n<path d=\"M115.5,-1241.4551C115.5,-1233.3828 115.5,-1223.6764 115.5,-1214.6817\" fill=\"none\" stroke=\"#000000\"/>\n<polygon fill=\"#000000\" points=\"119.0001,-1214.5903 115.5,-1204.5904 112.0001,-1214.5904 119.0001,-1214.5903\" stroke=\"#000000\"/>\n</g>\n<!-- 139695246926672 -->\n<g class=\"node\" id=\"node8\">\n<title>139695246926672</title>\n<polygon fill=\"none\" points=\"44.5,-1095.5 44.5,-1131.5 186.5,-1131.5 186.5,-1095.5 44.5,-1095.5\" stroke=\"#000000\"/>\n<text fill=\"#000000\" font-family=\"Times,serif\" font-size=\"14.00\" text-anchor=\"middle\" x=\"82\" y=\"-1109.8\">conv2d_4</text>\n<polyline fill=\"none\" points=\"119.5,-1095.5 119.5,-1131.5 \" stroke=\"#000000\"/>\n<text fill=\"#000000\" font-family=\"Times,serif\" font-size=\"14.00\" text-anchor=\"middle\" x=\"153\" y=\"-1109.8\">Conv2D</text>\n</g>\n<!-- 139695246951824&#45;&gt;139695246926672 -->\n<g class=\"edge\" id=\"edge7\">\n<title>139695246951824-&gt;139695246926672</title>\n<path d=\"M115.5,-1168.4551C115.5,-1160.3828 115.5,-1150.6764 115.5,-1141.6817\" fill=\"none\" stroke=\"#000000\"/>\n<polygon fill=\"#000000\" points=\"119.0001,-1141.5903 115.5,-1131.5904 112.0001,-1141.5904 119.0001,-1141.5903\" stroke=\"#000000\"/>\n</g>\n<!-- 139695308232336 -->\n<g class=\"node\" id=\"node9\">\n<title>139695308232336</title>\n<polygon fill=\"none\" points=\"44.5,-1022.5 44.5,-1058.5 186.5,-1058.5 186.5,-1022.5 44.5,-1022.5\" stroke=\"#000000\"/>\n<text fill=\"#000000\" font-family=\"Times,serif\" font-size=\"14.00\" text-anchor=\"middle\" x=\"82\" y=\"-1036.8\">conv2d_5</text>\n<polyline fill=\"none\" points=\"119.5,-1022.5 119.5,-1058.5 \" stroke=\"#000000\"/>\n<text fill=\"#000000\" font-family=\"Times,serif\" font-size=\"14.00\" text-anchor=\"middle\" x=\"153\" y=\"-1036.8\">Conv2D</text>\n</g>\n<!-- 139695246926672&#45;&gt;139695308232336 -->\n<g class=\"edge\" id=\"edge8\">\n<title>139695246926672-&gt;139695308232336</title>\n<path d=\"M115.5,-1095.4551C115.5,-1087.3828 115.5,-1077.6764 115.5,-1068.6817\" fill=\"none\" stroke=\"#000000\"/>\n<polygon fill=\"#000000\" points=\"119.0001,-1068.5903 115.5,-1058.5904 112.0001,-1068.5904 119.0001,-1068.5903\" stroke=\"#000000\"/>\n</g>\n<!-- 139695246992336 -->\n<g class=\"node\" id=\"node10\">\n<title>139695246992336</title>\n<polygon fill=\"none\" points=\"44.5,-949.5 44.5,-985.5 186.5,-985.5 186.5,-949.5 44.5,-949.5\" stroke=\"#000000\"/>\n<text fill=\"#000000\" font-family=\"Times,serif\" font-size=\"14.00\" text-anchor=\"middle\" x=\"82\" y=\"-963.8\">conv2d_6</text>\n<polyline fill=\"none\" points=\"119.5,-949.5 119.5,-985.5 \" stroke=\"#000000\"/>\n<text fill=\"#000000\" font-family=\"Times,serif\" font-size=\"14.00\" text-anchor=\"middle\" x=\"153\" y=\"-963.8\">Conv2D</text>\n</g>\n<!-- 139695308232336&#45;&gt;139695246992336 -->\n<g class=\"edge\" id=\"edge9\">\n<title>139695308232336-&gt;139695246992336</title>\n<path d=\"M115.5,-1022.4551C115.5,-1014.3828 115.5,-1004.6764 115.5,-995.6817\" fill=\"none\" stroke=\"#000000\"/>\n<polygon fill=\"#000000\" points=\"119.0001,-995.5903 115.5,-985.5904 112.0001,-995.5904 119.0001,-995.5903\" stroke=\"#000000\"/>\n</g>\n<!-- 139695247077072 -->\n<g class=\"node\" id=\"node11\">\n<title>139695247077072</title>\n<polygon fill=\"none\" points=\"0,-876.5 0,-912.5 231,-912.5 231,-876.5 0,-876.5\" stroke=\"#000000\"/>\n<text fill=\"#000000\" font-family=\"Times,serif\" font-size=\"14.00\" text-anchor=\"middle\" x=\"62\" y=\"-890.8\">max_pooling2d_2</text>\n<polyline fill=\"none\" points=\"124,-876.5 124,-912.5 \" stroke=\"#000000\"/>\n<text fill=\"#000000\" font-family=\"Times,serif\" font-size=\"14.00\" text-anchor=\"middle\" x=\"177.5\" y=\"-890.8\">MaxPooling2D</text>\n</g>\n<!-- 139695246992336&#45;&gt;139695247077072 -->\n<g class=\"edge\" id=\"edge10\">\n<title>139695246992336-&gt;139695247077072</title>\n<path d=\"M115.5,-949.4551C115.5,-941.3828 115.5,-931.6764 115.5,-922.6817\" fill=\"none\" stroke=\"#000000\"/>\n<polygon fill=\"#000000\" points=\"119.0001,-922.5903 115.5,-912.5904 112.0001,-922.5904 119.0001,-922.5903\" stroke=\"#000000\"/>\n</g>\n<!-- 139695247049552 -->\n<g class=\"node\" id=\"node12\">\n<title>139695247049552</title>\n<polygon fill=\"none\" points=\"44.5,-803.5 44.5,-839.5 186.5,-839.5 186.5,-803.5 44.5,-803.5\" stroke=\"#000000\"/>\n<text fill=\"#000000\" font-family=\"Times,serif\" font-size=\"14.00\" text-anchor=\"middle\" x=\"82\" y=\"-817.8\">conv2d_7</text>\n<polyline fill=\"none\" points=\"119.5,-803.5 119.5,-839.5 \" stroke=\"#000000\"/>\n<text fill=\"#000000\" font-family=\"Times,serif\" font-size=\"14.00\" text-anchor=\"middle\" x=\"153\" y=\"-817.8\">Conv2D</text>\n</g>\n<!-- 139695247077072&#45;&gt;139695247049552 -->\n<g class=\"edge\" id=\"edge11\">\n<title>139695247077072-&gt;139695247049552</title>\n<path d=\"M115.5,-876.4551C115.5,-868.3828 115.5,-858.6764 115.5,-849.6817\" fill=\"none\" stroke=\"#000000\"/>\n<polygon fill=\"#000000\" points=\"119.0001,-849.5903 115.5,-839.5904 112.0001,-849.5904 119.0001,-849.5903\" stroke=\"#000000\"/>\n</g>\n<!-- 139695247052240 -->\n<g class=\"node\" id=\"node13\">\n<title>139695247052240</title>\n<polygon fill=\"none\" points=\"44.5,-730.5 44.5,-766.5 186.5,-766.5 186.5,-730.5 44.5,-730.5\" stroke=\"#000000\"/>\n<text fill=\"#000000\" font-family=\"Times,serif\" font-size=\"14.00\" text-anchor=\"middle\" x=\"82\" y=\"-744.8\">conv2d_8</text>\n<polyline fill=\"none\" points=\"119.5,-730.5 119.5,-766.5 \" stroke=\"#000000\"/>\n<text fill=\"#000000\" font-family=\"Times,serif\" font-size=\"14.00\" text-anchor=\"middle\" x=\"153\" y=\"-744.8\">Conv2D</text>\n</g>\n<!-- 139695247049552&#45;&gt;139695247052240 -->\n<g class=\"edge\" id=\"edge12\">\n<title>139695247049552-&gt;139695247052240</title>\n<path d=\"M115.5,-803.4551C115.5,-795.3828 115.5,-785.6764 115.5,-776.6817\" fill=\"none\" stroke=\"#000000\"/>\n<polygon fill=\"#000000\" points=\"119.0001,-776.5903 115.5,-766.5904 112.0001,-776.5904 119.0001,-776.5903\" stroke=\"#000000\"/>\n</g>\n<!-- 139695247119760 -->\n<g class=\"node\" id=\"node14\">\n<title>139695247119760</title>\n<polygon fill=\"none\" points=\"44.5,-657.5 44.5,-693.5 186.5,-693.5 186.5,-657.5 44.5,-657.5\" stroke=\"#000000\"/>\n<text fill=\"#000000\" font-family=\"Times,serif\" font-size=\"14.00\" text-anchor=\"middle\" x=\"82\" y=\"-671.8\">conv2d_9</text>\n<polyline fill=\"none\" points=\"119.5,-657.5 119.5,-693.5 \" stroke=\"#000000\"/>\n<text fill=\"#000000\" font-family=\"Times,serif\" font-size=\"14.00\" text-anchor=\"middle\" x=\"153\" y=\"-671.8\">Conv2D</text>\n</g>\n<!-- 139695247052240&#45;&gt;139695247119760 -->\n<g class=\"edge\" id=\"edge13\">\n<title>139695247052240-&gt;139695247119760</title>\n<path d=\"M115.5,-730.4551C115.5,-722.3828 115.5,-712.6764 115.5,-703.6817\" fill=\"none\" stroke=\"#000000\"/>\n<polygon fill=\"#000000\" points=\"119.0001,-703.5903 115.5,-693.5904 112.0001,-703.5904 119.0001,-703.5903\" stroke=\"#000000\"/>\n</g>\n<!-- 139695247121552 -->\n<g class=\"node\" id=\"node15\">\n<title>139695247121552</title>\n<polygon fill=\"none\" points=\"0,-584.5 0,-620.5 231,-620.5 231,-584.5 0,-584.5\" stroke=\"#000000\"/>\n<text fill=\"#000000\" font-family=\"Times,serif\" font-size=\"14.00\" text-anchor=\"middle\" x=\"62\" y=\"-598.8\">max_pooling2d_3</text>\n<polyline fill=\"none\" points=\"124,-584.5 124,-620.5 \" stroke=\"#000000\"/>\n<text fill=\"#000000\" font-family=\"Times,serif\" font-size=\"14.00\" text-anchor=\"middle\" x=\"177.5\" y=\"-598.8\">MaxPooling2D</text>\n</g>\n<!-- 139695247119760&#45;&gt;139695247121552 -->\n<g class=\"edge\" id=\"edge14\">\n<title>139695247119760-&gt;139695247121552</title>\n<path d=\"M115.5,-657.4551C115.5,-649.3828 115.5,-639.6764 115.5,-630.6817\" fill=\"none\" stroke=\"#000000\"/>\n<polygon fill=\"#000000\" points=\"119.0001,-630.5903 115.5,-620.5904 112.0001,-630.5904 119.0001,-630.5903\" stroke=\"#000000\"/>\n</g>\n<!-- 139695247162576 -->\n<g class=\"node\" id=\"node16\">\n<title>139695247162576</title>\n<polygon fill=\"none\" points=\"40.5,-511.5 40.5,-547.5 190.5,-547.5 190.5,-511.5 40.5,-511.5\" stroke=\"#000000\"/>\n<text fill=\"#000000\" font-family=\"Times,serif\" font-size=\"14.00\" text-anchor=\"middle\" x=\"82\" y=\"-525.8\">conv2d_10</text>\n<polyline fill=\"none\" points=\"123.5,-511.5 123.5,-547.5 \" stroke=\"#000000\"/>\n<text fill=\"#000000\" font-family=\"Times,serif\" font-size=\"14.00\" text-anchor=\"middle\" x=\"157\" y=\"-525.8\">Conv2D</text>\n</g>\n<!-- 139695247121552&#45;&gt;139695247162576 -->\n<g class=\"edge\" id=\"edge15\">\n<title>139695247121552-&gt;139695247162576</title>\n<path d=\"M115.5,-584.4551C115.5,-576.3828 115.5,-566.6764 115.5,-557.6817\" fill=\"none\" stroke=\"#000000\"/>\n<polygon fill=\"#000000\" points=\"119.0001,-557.5903 115.5,-547.5904 112.0001,-557.5904 119.0001,-557.5903\" stroke=\"#000000\"/>\n</g>\n<!-- 139695247162384 -->\n<g class=\"node\" id=\"node17\">\n<title>139695247162384</title>\n<polygon fill=\"none\" points=\"41,-438.5 41,-474.5 190,-474.5 190,-438.5 41,-438.5\" stroke=\"#000000\"/>\n<text fill=\"#000000\" font-family=\"Times,serif\" font-size=\"14.00\" text-anchor=\"middle\" x=\"82\" y=\"-452.8\">conv2d_11</text>\n<polyline fill=\"none\" points=\"123,-438.5 123,-474.5 \" stroke=\"#000000\"/>\n<text fill=\"#000000\" font-family=\"Times,serif\" font-size=\"14.00\" text-anchor=\"middle\" x=\"156.5\" y=\"-452.8\">Conv2D</text>\n</g>\n<!-- 139695247162576&#45;&gt;139695247162384 -->\n<g class=\"edge\" id=\"edge16\">\n<title>139695247162576-&gt;139695247162384</title>\n<path d=\"M115.5,-511.4551C115.5,-503.3828 115.5,-493.6764 115.5,-484.6817\" fill=\"none\" stroke=\"#000000\"/>\n<polygon fill=\"#000000\" points=\"119.0001,-484.5903 115.5,-474.5904 112.0001,-484.5904 119.0001,-484.5903\" stroke=\"#000000\"/>\n</g>\n<!-- 139695246698256 -->\n<g class=\"node\" id=\"node18\">\n<title>139695246698256</title>\n<polygon fill=\"none\" points=\"40.5,-365.5 40.5,-401.5 190.5,-401.5 190.5,-365.5 40.5,-365.5\" stroke=\"#000000\"/>\n<text fill=\"#000000\" font-family=\"Times,serif\" font-size=\"14.00\" text-anchor=\"middle\" x=\"82\" y=\"-379.8\">conv2d_12</text>\n<polyline fill=\"none\" points=\"123.5,-365.5 123.5,-401.5 \" stroke=\"#000000\"/>\n<text fill=\"#000000\" font-family=\"Times,serif\" font-size=\"14.00\" text-anchor=\"middle\" x=\"157\" y=\"-379.8\">Conv2D</text>\n</g>\n<!-- 139695247162384&#45;&gt;139695246698256 -->\n<g class=\"edge\" id=\"edge17\">\n<title>139695247162384-&gt;139695246698256</title>\n<path d=\"M115.5,-438.4551C115.5,-430.3828 115.5,-420.6764 115.5,-411.6817\" fill=\"none\" stroke=\"#000000\"/>\n<polygon fill=\"#000000\" points=\"119.0001,-411.5903 115.5,-401.5904 112.0001,-411.5904 119.0001,-411.5903\" stroke=\"#000000\"/>\n</g>\n<!-- 139695246698896 -->\n<g class=\"node\" id=\"node19\">\n<title>139695246698896</title>\n<polygon fill=\"none\" points=\"0,-292.5 0,-328.5 231,-328.5 231,-292.5 0,-292.5\" stroke=\"#000000\"/>\n<text fill=\"#000000\" font-family=\"Times,serif\" font-size=\"14.00\" text-anchor=\"middle\" x=\"62\" y=\"-306.8\">max_pooling2d_4</text>\n<polyline fill=\"none\" points=\"124,-292.5 124,-328.5 \" stroke=\"#000000\"/>\n<text fill=\"#000000\" font-family=\"Times,serif\" font-size=\"14.00\" text-anchor=\"middle\" x=\"177.5\" y=\"-306.8\">MaxPooling2D</text>\n</g>\n<!-- 139695246698256&#45;&gt;139695246698896 -->\n<g class=\"edge\" id=\"edge18\">\n<title>139695246698256-&gt;139695246698896</title>\n<path d=\"M115.5,-365.4551C115.5,-357.3828 115.5,-347.6764 115.5,-338.6817\" fill=\"none\" stroke=\"#000000\"/>\n<polygon fill=\"#000000\" points=\"119.0001,-338.5903 115.5,-328.5904 112.0001,-338.5904 119.0001,-338.5903\" stroke=\"#000000\"/>\n</g>\n<!-- 139695246656528 -->\n<g class=\"node\" id=\"node20\">\n<title>139695246656528</title>\n<polygon fill=\"none\" points=\"61.5,-219.5 61.5,-255.5 169.5,-255.5 169.5,-219.5 61.5,-219.5\" stroke=\"#000000\"/>\n<text fill=\"#000000\" font-family=\"Times,serif\" font-size=\"14.00\" text-anchor=\"middle\" x=\"87.5\" y=\"-233.8\">flatten</text>\n<polyline fill=\"none\" points=\"113.5,-219.5 113.5,-255.5 \" stroke=\"#000000\"/>\n<text fill=\"#000000\" font-family=\"Times,serif\" font-size=\"14.00\" text-anchor=\"middle\" x=\"141.5\" y=\"-233.8\">Flatten</text>\n</g>\n<!-- 139695246698896&#45;&gt;139695246656528 -->\n<g class=\"edge\" id=\"edge19\">\n<title>139695246698896-&gt;139695246656528</title>\n<path d=\"M115.5,-292.4551C115.5,-284.3828 115.5,-274.6764 115.5,-265.6817\" fill=\"none\" stroke=\"#000000\"/>\n<polygon fill=\"#000000\" points=\"119.0001,-265.5903 115.5,-255.5904 112.0001,-265.5904 119.0001,-265.5903\" stroke=\"#000000\"/>\n</g>\n<!-- 139695246743504 -->\n<g class=\"node\" id=\"node21\">\n<title>139695246743504</title>\n<polygon fill=\"none\" points=\"65,-146.5 65,-182.5 166,-182.5 166,-146.5 65,-146.5\" stroke=\"#000000\"/>\n<text fill=\"#000000\" font-family=\"Times,serif\" font-size=\"14.00\" text-anchor=\"middle\" x=\"89.5\" y=\"-160.8\">dense</text>\n<polyline fill=\"none\" points=\"114,-146.5 114,-182.5 \" stroke=\"#000000\"/>\n<text fill=\"#000000\" font-family=\"Times,serif\" font-size=\"14.00\" text-anchor=\"middle\" x=\"140\" y=\"-160.8\">Dense</text>\n</g>\n<!-- 139695246656528&#45;&gt;139695246743504 -->\n<g class=\"edge\" id=\"edge20\">\n<title>139695246656528-&gt;139695246743504</title>\n<path d=\"M115.5,-219.4551C115.5,-211.3828 115.5,-201.6764 115.5,-192.6817\" fill=\"none\" stroke=\"#000000\"/>\n<polygon fill=\"#000000\" points=\"119.0001,-192.5903 115.5,-182.5904 112.0001,-192.5904 119.0001,-192.5903\" stroke=\"#000000\"/>\n</g>\n<!-- 139695246760784 -->\n<g class=\"node\" id=\"node22\">\n<title>139695246760784</title>\n<polygon fill=\"none\" points=\"57.5,-73.5 57.5,-109.5 173.5,-109.5 173.5,-73.5 57.5,-73.5\" stroke=\"#000000\"/>\n<text fill=\"#000000\" font-family=\"Times,serif\" font-size=\"14.00\" text-anchor=\"middle\" x=\"89.5\" y=\"-87.8\">dense_1</text>\n<polyline fill=\"none\" points=\"121.5,-73.5 121.5,-109.5 \" stroke=\"#000000\"/>\n<text fill=\"#000000\" font-family=\"Times,serif\" font-size=\"14.00\" text-anchor=\"middle\" x=\"147.5\" y=\"-87.8\">Dense</text>\n</g>\n<!-- 139695246743504&#45;&gt;139695246760784 -->\n<g class=\"edge\" id=\"edge21\">\n<title>139695246743504-&gt;139695246760784</title>\n<path d=\"M115.5,-146.4551C115.5,-138.3828 115.5,-128.6764 115.5,-119.6817\" fill=\"none\" stroke=\"#000000\"/>\n<polygon fill=\"#000000\" points=\"119.0001,-119.5903 115.5,-109.5904 112.0001,-119.5904 119.0001,-119.5903\" stroke=\"#000000\"/>\n</g>\n<!-- 139695246759248 -->\n<g class=\"node\" id=\"node23\">\n<title>139695246759248</title>\n<polygon fill=\"none\" points=\"57.5,-.5 57.5,-36.5 173.5,-36.5 173.5,-.5 57.5,-.5\" stroke=\"#000000\"/>\n<text fill=\"#000000\" font-family=\"Times,serif\" font-size=\"14.00\" text-anchor=\"middle\" x=\"89.5\" y=\"-14.8\">dense_2</text>\n<polyline fill=\"none\" points=\"121.5,-.5 121.5,-36.5 \" stroke=\"#000000\"/>\n<text fill=\"#000000\" font-family=\"Times,serif\" font-size=\"14.00\" text-anchor=\"middle\" x=\"147.5\" y=\"-14.8\">Dense</text>\n</g>\n<!-- 139695246760784&#45;&gt;139695246759248 -->\n<g class=\"edge\" id=\"edge22\">\n<title>139695246760784-&gt;139695246759248</title>\n<path d=\"M115.5,-73.4551C115.5,-65.3828 115.5,-55.6764 115.5,-46.6817\" fill=\"none\" stroke=\"#000000\"/>\n<polygon fill=\"#000000\" points=\"119.0001,-46.5903 115.5,-36.5904 112.0001,-46.5904 119.0001,-46.5903\" stroke=\"#000000\"/>\n</g>\n</g>\n</svg>"
          },
          "metadata": {},
          "execution_count": 5
        }
      ]
    },
    {
      "cell_type": "markdown",
      "metadata": {
        "id": "WNC4vNba_hYw"
      },
      "source": [
        "## Calculate inference time"
      ]
    },
    {
      "cell_type": "code",
      "metadata": {
        "id": "qVQLIdGx_kdm",
        "colab": {
          "base_uri": "https://localhost:8080/"
        },
        "outputId": "b031bcc1-1483-4b38-fd22-cd6b38a8b829"
      },
      "source": [
        "repetitions = 10\n",
        "input = np.random.randn(1, *input_shape)\n",
        "\n",
        "output = model.predict(input)\n",
        "start = time()\n",
        "for _ in range(repetitions):\n",
        "  output = model.predict(input)\n",
        "  \n",
        "print((time() - start) / repetitions)"
      ],
      "execution_count": 6,
      "outputs": [
        {
          "output_type": "stream",
          "name": "stdout",
          "text": [
            "1/1 [==============================] - 1s 1s/step\n",
            "1/1 [==============================] - 1s 640ms/step\n",
            "1/1 [==============================] - 1s 646ms/step\n",
            "1/1 [==============================] - 1s 643ms/step\n",
            "1/1 [==============================] - 1s 640ms/step\n",
            "1/1 [==============================] - 1s 648ms/step\n",
            "1/1 [==============================] - 1s 615ms/step\n",
            "1/1 [==============================] - 1s 635ms/step\n",
            "1/1 [==============================] - 1s 639ms/step\n",
            "1/1 [==============================] - 1s 614ms/step\n",
            "1/1 [==============================] - 1s 631ms/step\n",
            "0.6817396879196167\n"
          ]
        }
      ]
    },
    {
      "cell_type": "code",
      "source": [],
      "metadata": {
        "id": "SL2qKTp2aaM6"
      },
      "execution_count": null,
      "outputs": []
    }
  ]
}